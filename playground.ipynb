{
 "cells": [
  {
   "cell_type": "code",
   "execution_count": null,
   "metadata": {},
   "outputs": [],
   "source": [
    "import numpy as np\n",
    "import tensorflow as tf\n",
    "import os"
   ]
  },
  {
   "cell_type": "code",
   "execution_count": null,
   "metadata": {},
   "outputs": [],
   "source": []
  },
  {
   "cell_type": "code",
   "execution_count": null,
   "metadata": {},
   "outputs": [],
   "source": [
    "# Set the path to your main dataset directory\n",
    "dataset_path = './archive (1)'\n",
    "\n",
    "# Get a list of available command/folder names\n",
    "commands = np.array(tf.io.gfile.listdir(str(dataset_path)))\n",
    "print(commands)"
   ]
  },
  {
   "cell_type": "markdown",
   "metadata": {},
   "source": [
    "We want to keep: down, go, left, right, stop, up\n",
    "Others to consider: yes/no, numbers, on/off\n",
    "\n",
    "Note: LICENSE, README.md, testing_list.txt, validation_list.txt are documents and _background_noise is additional data."
   ]
  },
  {
   "cell_type": "code",
   "execution_count": null,
   "metadata": {},
   "outputs": [
    {
     "name": "stdout",
     "output_type": "stream",
     "text": [
      "Number of audio files in 'down': 2359\n",
      "Number of audio files in 'go': 2372\n",
      "Number of audio files in 'left': 2353\n",
      "Number of audio files in 'right': 2367\n",
      "Number of audio files in 'stop': 2380\n",
      "Number of audio files in 'up': 2375\n",
      "Number of audio files in 'yes': 2377\n",
      "Number of audio files in 'no': 2375\n",
      "Number of audio files in 'on': 2367\n",
      "Number of audio files in 'off': 2357\n"
     ]
    }
   ],
   "source": [
    "commands = [\"down\", \"go\", \"left\", \"right\", \"stop\", \"up\", \"yes\", \"no\", \"on\", \"off\"] # commands to keep\n",
    "\n",
    "# get file counts for each command\n",
    "# Loop through each category and count the number of audio files\n",
    "for command in commands:\n",
    "    command_path = os.path.join(dataset_path, command)\n",
    "    # Get the list of all .wav files in the command folder\n",
    "    audio_files = [file for file in os.listdir(command_path)]\n",
    "    print(f\"Number of audio files in '{command}': {len(audio_files)}\")"
   ]
  },
  {
   "cell_type": "markdown",
   "metadata": {},
   "source": [
    "Each command has ~2375 examples.\n",
    "\n",
    "From README:\n",
    "The data was captured in a\n",
    "variety of formats, for example Ogg Vorbis encoding for the web app, and then\n",
    "converted to a 16-bit little-endian PCM-encoded WAVE file at a 16000 sample\n",
    "rate. The audio was then trimmed to a one second length to align most\n",
    "utterances, using the\n",
    "extract_loudest_section\n",
    "tool. The audio files were then screened for silence or incorrect words, and\n",
    "arranged into folders by label.\n",
    "\n",
    "Divided into directories this way, you can easily load the data using `keras.utils.audio_dataset_from_directory`. \n",
    "\n",
    "The audio clips are 1 second or less at 16kHz. The `output_sequence_length=16000` pads the short ones to exactly 1 second (and would trim longer ones) so that they can be easily batched."
   ]
  },
  {
   "cell_type": "code",
   "execution_count": 10,
   "metadata": {},
   "outputs": [
    {
     "name": "stdout",
     "output_type": "stream",
     "text": [
      "Found 64727 files belonging to 31 classes.\n",
      "Using 51782 files for training.\n",
      "Using 12945 files for validation.\n",
      "\n",
      "label names: ['_background_noise_' 'bed' 'bird' 'cat' 'dog' 'down' 'eight' 'five'\n",
      " 'four' 'go' 'happy' 'house' 'left' 'marvin' 'nine' 'no' 'off' 'on' 'one'\n",
      " 'right' 'seven' 'sheila' 'six' 'stop' 'three' 'tree' 'two' 'up' 'wow'\n",
      " 'yes' 'zero']\n"
     ]
    }
   ],
   "source": [
    "train_ds, val_ds = tf.keras.utils.audio_dataset_from_directory(\n",
    "    directory=dataset_path,\n",
    "    batch_size=64,\n",
    "    validation_split=0.2,\n",
    "    seed=0,\n",
    "    output_sequence_length=16000,\n",
    "    subset='both')\n",
    "\n",
    "label_names = np.array(train_ds.class_names)\n",
    "print()\n",
    "print(\"label names:\", label_names)"
   ]
  }
 ],
 "metadata": {
  "kernelspec": {
   "display_name": "python",
   "language": "python",
   "name": "python3"
  },
  "language_info": {
   "codemirror_mode": {
    "name": "ipython",
    "version": 3
   },
   "file_extension": ".py",
   "mimetype": "text/x-python",
   "name": "python",
   "nbconvert_exporter": "python",
   "pygments_lexer": "ipython3",
   "version": "3.9.12"
  }
 },
 "nbformat": 4,
 "nbformat_minor": 2
}
